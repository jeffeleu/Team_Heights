{
  "cells": [
    {
      "cell_type": "code",
      "execution_count": 80,
      "metadata": {
        "id": "BskOk8pSK6qp"
      },
      "outputs": [],
      "source": [
        "import requests\n",
        "from bs4 import BeautifulSoup"
      ]
    },
    {
      "cell_type": "code",
      "execution_count": 81,
      "metadata": {
        "id": "huPnIdaxOIxW"
      },
      "outputs": [],
      "source": [
        "#create function to scrape the heights of teams\n",
        "#can call it multiple times for other teams\n",
        "def scrape_heights(url):\n",
        "  page = requests.get(url) #make the request to the server\n",
        "  page.status_code #check status code| status code of 200 mean request is successful\n",
        "  heights = [] #empty list for loop to fill\n",
        "  if page.status_code == 200:\n",
        "    soup = BeautifulSoup(page.content, 'html.parser') #use beautifulsoup to parse the page content\n",
        "\n",
        "    height_tags = soup.find_all('td', class_= 'height') #find the tags = td and class = height\n",
        "\n",
        "    for height_tag in height_tags:\n",
        "      feet = float(height_tag.get_text()[0]) #gets only the feet\n",
        "      inches = float(height_tag.get_text()[2:]) #gets only the inches\n",
        "      height_in_inches = feet * 12 + inches #changes feet&inches to inches\n",
        "      #another way is heights.append(float(height_tag.get_text()[0]) * 12 + float(height_tag.get_text()[2:]))\n",
        "\n",
        "      heights.append(height_in_inches) #adds each height in inches to list\n",
        "\n",
        "    return heights"
      ]
    },
    {
      "cell_type": "code",
      "execution_count": 82,
      "metadata": {
        "colab": {
          "base_uri": "https://localhost:8080/"
        },
        "id": "9jmn5BNtSD6t",
        "outputId": "2897b2df-1fd6-461c-927b-1533d35d3363"
      },
      "outputs": [
        {
          "name": "stdout",
          "output_type": "stream",
          "text": [
            "Average height of Baruch Men's Swimming Team: 70.74 inches\n"
          ]
        }
      ],
      "source": [
        "#scraping heights for men's swimming team\n",
        "url = \"https://athletics.baruch.cuny.edu/sports/mens-swimming-and-diving/roster\"\n",
        "scrape_heights(url)\n",
        "#average the heights\n",
        "avg_height_mst = sum(scrape_heights(url)) / len(scrape_heights(url)) #make variable for later calculation and find averages\n",
        "print(f\"Average height of Baruch Men's Swimming Team: {avg_height_mst:.2f} inches\") #formatted to 2 decimal places"
      ]
    },
    {
      "cell_type": "code",
      "execution_count": 83,
      "metadata": {
        "colab": {
          "base_uri": "https://localhost:8080/"
        },
        "id": "PSWZWATVPsDJ",
        "outputId": "ad015d35-30e0-400f-ecb0-bd181941f875"
      },
      "outputs": [
        {
          "name": "stdout",
          "output_type": "stream",
          "text": [
            "Average height of Baruch Men's Volleyball Team: 72.25 inches\n"
          ]
        }
      ],
      "source": [
        "#scraping heights of men's volleyball team\n",
        "url = \"https://athletics.baruch.cuny.edu/sports/mens-volleyball/roster\"\n",
        "scrape_heights(url)\n",
        "#average the heights\n",
        "avg_height_mvt = sum(scrape_heights(url)) / len(scrape_heights(url))\n",
        "print(f\"Average height of Baruch Men's Volleyball Team: {avg_height_mvt:.2f} inches\")"
      ]
    },
    {
      "cell_type": "code",
      "execution_count": 84,
      "metadata": {
        "colab": {
          "base_uri": "https://localhost:8080/"
        },
        "id": "Z_RlcC1PPsRY",
        "outputId": "72081249-532e-4c77-a3bc-9e1fbfde4fd3"
      },
      "outputs": [
        {
          "name": "stdout",
          "output_type": "stream",
          "text": [
            "Average height of Baruch Women's Swimming Team: 64.33 inches\n"
          ]
        }
      ],
      "source": [
        "#scraping heights of women's swimming team\n",
        "url = \"https://athletics.baruch.cuny.edu/sports/womens-swimming-and-diving/roster\"\n",
        "scrape_heights(url)\n",
        "#average the heights\n",
        "avg_height_wst = sum(scrape_heights(url)) / len(scrape_heights(url))\n",
        "print(f\"Average height of Baruch Women's Swimming Team: {avg_height_wst:.2f} inches\")"
      ]
    },
    {
      "cell_type": "code",
      "execution_count": 85,
      "metadata": {
        "colab": {
          "base_uri": "https://localhost:8080/"
        },
        "id": "STfZP5mFPsf0",
        "outputId": "ea8da828-b0ef-4aa0-b5ce-3c3aaa7a177d"
      },
      "outputs": [
        {
          "name": "stdout",
          "output_type": "stream",
          "text": [
            "Average height of Baruch Women's Volleyball Team: 67.25 inches\n"
          ]
        }
      ],
      "source": [
        "#scraping heights of women's volleyball team\n",
        "url = \"https://athletics.baruch.cuny.edu/sports/womens-volleyball/roster\"\n",
        "scrape_heights(url)\n",
        "#average the heights\n",
        "avg_height_wvt = sum(scrape_heights(url)) / len(scrape_heights(url))\n",
        "print(f\"Average height of Baruch Women's Volleyball Team: {avg_height_wvt:.2f} inches\")"
      ]
    },
    {
      "cell_type": "code",
      "execution_count": 86,
      "metadata": {
        "colab": {
          "base_uri": "https://localhost:8080/"
        },
        "id": "14vAwLVlQle9",
        "outputId": "c73afca2-8c3b-468e-d056-c889e37b8c17"
      },
      "outputs": [
        {
          "name": "stdout",
          "output_type": "stream",
          "text": [
            "Average height of both swim teams: 67.54 inches\n"
          ]
        }
      ],
      "source": [
        "#find the average of both men and women's swim teams\n",
        "avg_height_swim = (avg_height_mst+avg_height_wst)/2\n",
        "print(f\"Average height of both swim teams: {avg_height_swim:.2f} inches\")"
      ]
    },
    {
      "cell_type": "code",
      "execution_count": 87,
      "metadata": {
        "colab": {
          "base_uri": "https://localhost:8080/"
        },
        "id": "bNslIl6jQoCD",
        "outputId": "056aa5c4-bd9a-42a2-a375-e36bbc3db29d"
      },
      "outputs": [
        {
          "name": "stdout",
          "output_type": "stream",
          "text": [
            "Average height of both volleyball teams: 69.75 inches\n"
          ]
        }
      ],
      "source": [
        "#find the average of both men and women's volleyball teams\n",
        "avg_height_volley = (avg_height_mvt+avg_height_wvt)/2\n",
        "print(f\"Average height of both volleyball teams: {avg_height_volley:.2f} inches\")"
      ]
    }
  ],
  "metadata": {
    "colab": {
      "provenance": []
    },
    "kernelspec": {
      "display_name": "Python 3",
      "name": "python3"
    },
    "language_info": {
      "name": "python"
    }
  },
  "nbformat": 4,
  "nbformat_minor": 0
}
